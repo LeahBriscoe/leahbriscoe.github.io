{
 "cells": [
  {
   "cell_type": "markdown",
   "metadata": {},
   "source": [
    "# Publications markdown generator for academicpages\n",
    "\n",
    "Takes a TSV of publications with metadata and converts them for use with [academicpages.github.io](academicpages.github.io). This is an interactive Jupyter notebook ([see more info here](http://jupyter-notebook-beginner-guide.readthedocs.io/en/latest/what_is_jupyter.html)). The core python code is also in `publications.py`. Run either from the `markdown_generator` folder after replacing `publications.tsv` with one containing your data.\n",
    "\n",
    "TODO: Make this work with BibTex and other databases of citations, rather than Stuart's non-standard TSV format and citation style.\n"
   ]
  },
  {
   "cell_type": "markdown",
   "metadata": {},
   "source": [
    "## Data format\n",
    "\n",
    "The TSV needs to have the following columns: pub_date, title, venue, excerpt, citation, site_url, and paper_url, with a header at the top. \n",
    "\n",
    "- `excerpt` and `paper_url` can be blank, but the others must have values. \n",
    "- `pub_date` must be formatted as YYYY-MM-DD.\n",
    "- `url_slug` will be the descriptive part of the .md file and the permalink URL for the page about the paper. The .md file will be `YYYY-MM-DD-[url_slug].md` and the permalink will be `https://[yourdomain]/publications/YYYY-MM-DD-[url_slug]`\n",
    "\n",
    "This is how the raw file looks (it doesn't look pretty, use a spreadsheet or other program to edit and create)."
   ]
  },
  {
   "cell_type": "code",
   "execution_count": 8,
   "metadata": {},
   "outputs": [
    {
     "name": "stdout",
     "output_type": "stream",
     "text": [
      "pub_date\ttitle\tvenue\texcerpt\tcitation\turl_slug\tpaper_url\r",
      "\r\n",
      "6/30/16\tSymbiotic Burkholderia Species Show Diverse Arrangements of nif/fix and nod Genes and Lack Typical High-Affinity Cytochrome cbb3 Oxidase Genes\tInternational Society for Molecular Plant-Microbe Interactions\tdeeper genomic analysis revealed a complex symbiosis acquisition history in the beta-rhizobia that clearly separates the mimosoid and papilionoid nodulating groups\t\"De Meyer, S. E., Briscoe, L., Martinez-Hidalgo, P., Agapakis, C. M., de-los Santos, P. E., Seshadri, R., ... & Hirsch, A. M. (2016). Symbiotic Burkholderia species show diverse arrangements of nif/fix and nod genes and lack typical high-affinity cytochrome cbb3 oxidase genes. Molecular Plant-Microbe Interactions, 29(8), 609-619\"\tDiverse arrangements of nitrogen fixation genes\thttps://doi.org/10.1094/MPMI-05-16-0091-R\r",
      "\r\n",
      "10/5/17\tSaVanT: a web-based tool for the sample-level visualization of molecular signatures in gene expression profiles\tBMC Genomics\t\"Signature visualization of individual samples allows, for example, the identification of patient subcategories a priori on the basis of well-defined molecular signatures.\"\t\"Lopez, D., Montoya, D., Ambrose, M., Lam, L., Briscoe, L., Adams, C., ... & Pellegrini, M. (2017). SaVanT: a web-based tool for the sample-level visualization of molecular signatures in gene expression profiles. BMC genomics, 18(1), 824.\"\tSaVanT\thttps://doi.org/10.1186/s12864-017-4167-7\r",
      "\r\n",
      "7/24/18\t\"Whole genome analyses suggests that Burkholderia sensu lato contains two additional novel genera (Mycetohabitans gen. nov., and Trinickia gen. nov.): implications for the evolution of diazotrophy and nodulation in the Burkholderiaceae.\"\tGenes\t\"The newly proposed combinations are Mycetohabitans endofungorum comb. nov., Mycetohabitansrhizoxinica comb. nov., Trinickia caryophylli comb. nov., Trinickiadabaoshanensis comb. nov., Trinickia soli comb. nov., and Trinickiasymbiotica comb. nov. Given that the division between the genera that comprise Burkholderia s.l. in terms of their lifestyles is often complex, differential characteristics of the genomes of these new combinations were investigated.\"\t\"Estrada-de los Santos, P., Palmer, M., Ch vez-Ramirez, B., Beukes, C., Steenkamp, E., Briscoe, L., ... & Arrabit, M. (2018). Whole genome analyses suggests that Burkholderia sensu lato contains two additional novel genera (Mycetohabitans gen. nov., and Trinickia gen. nov.): implications for the evolution of diazotrophy and nodulation in the Burkholderiaceae. Genes, 9(8), 389.\"\tNovel genera in Burkholderiaceae\thttps://doi.org/10.3390/genes9080389\r",
      "\r\n",
      "6/10/19\tFEAST: fast expectation-maximization for microbial source tracking\tNature Methods\t\"FEAST may provide insight into quantifying contamination, tracking the formation of developing microbial communities, as well as distinguishing and characterizing bacteria-related health conditions\"\t\"Shenhav, L., Thompson, M., Joseph, T. A., Briscoe, L., Furman, O., Bogumil, D., ... & Halperin, E. (2019). FEAST: fast expectation-maximization for microbial source tracking. Nature methods, 1.\"\tFEAST\thttps://doi.org/10.1038/s41592-019-0431-x\r",
      "\r\n",
      "6/27/19\tModeling the temporal dynamics of the gut microbial community in adults and infants\tPLoS Computational Biology\t\"MTV-LMM can identify time-dependent microbes (i.e., microbes whose abundance can be predicted based on the previous microbial composition) in longitudinal studies, which can then be used to analyze the trajectory of the microbiome over time.\"\t\"Shenhav, L., Furman, O., Briscoe, L., Thompson, M., Silverman, J. D., Mizrahi, I., & Halperin, E. (2019). Modeling the temporal dynamics of the gut microbial community in adults and infants. PLOS Computational Biology, 15(6), e1006960.\"\tMTVLMM\thttps://doi.org/10.1371/journal.pcbi.1006960\r",
      "\r\n",
      "10/20/21\tOptimized design of single-cell RNA sequencing experiments for cell-type-specific eQTL analysis\tNature Communications\twe provide a practical approach on selecting cost-effective designs for maximizing cell-type-specific eQTL power which is available in the form of a web tool.\t\"Mandric, I., Schwarz, T., Majumdar, A., Hou, K., Briscoe, L., Perez, R., ... & Halperin, E. (2020). Optimized design of single-cell RNA sequencing experiments for cell-type-specific eQTL analysis. Nature communications, 11(1), 1-9.\"\tcost-effective designs\thttps://doi.org/10.1038/s41467-020-19365-w\r",
      "\r\n",
      "3/20/21\tCorrecting for Background Noise Improves Phenotype Prediction from Human Gut Microbiome Data\tBiorxiv\tWe show that application of the centered log-ratio transformation prior to correction with unsupervised approaches improves prediction accuracy for many phenotypes while simultaneously reducing variance due to unwanted sources of variation.\t\"Briscoe, L., Balliu, B., Sankararaman, S.,Halperin, E., & Garud, N. (2021). Correcting for Background Noise Improves Phenotype Prediction from Human Gut Microbiome Data. bioRxiv 2021.03.19.436199 (2021). doi:10.1101/2021.03.19.436199\"\tPCA correction\thttps://doi.org/10.1101/2021.03.19.436199"
     ]
    }
   ],
   "source": [
    "!cat publications.tsv\n",
    "\n"
   ]
  },
  {
   "cell_type": "markdown",
   "metadata": {},
   "source": [
    "## Import pandas\n",
    "\n",
    "We are using the very handy pandas library for dataframes."
   ]
  },
  {
   "cell_type": "code",
   "execution_count": 2,
   "metadata": {},
   "outputs": [],
   "source": [
    "import pandas as pd"
   ]
  },
  {
   "cell_type": "markdown",
   "metadata": {},
   "source": [
    "## Import TSV\n",
    "\n",
    "Pandas makes this easy with the read_csv function. We are using a TSV, so we specify the separator as a tab, or `\\t`.\n",
    "\n",
    "I found it important to put this data in a tab-separated values format, because there are a lot of commas in this kind of data and comma-separated values can get messed up. However, you can modify the import statement, as pandas also has read_excel(), read_json(), and others."
   ]
  },
  {
   "cell_type": "code",
   "execution_count": 9,
   "metadata": {},
   "outputs": [
    {
     "data": {
      "text/html": [
       "<div>\n",
       "<style scoped>\n",
       "    .dataframe tbody tr th:only-of-type {\n",
       "        vertical-align: middle;\n",
       "    }\n",
       "\n",
       "    .dataframe tbody tr th {\n",
       "        vertical-align: top;\n",
       "    }\n",
       "\n",
       "    .dataframe thead th {\n",
       "        text-align: right;\n",
       "    }\n",
       "</style>\n",
       "<table border=\"1\" class=\"dataframe\">\n",
       "  <thead>\n",
       "    <tr style=\"text-align: right;\">\n",
       "      <th></th>\n",
       "      <th>pub_date</th>\n",
       "      <th>title</th>\n",
       "      <th>venue</th>\n",
       "      <th>excerpt</th>\n",
       "      <th>citation</th>\n",
       "      <th>url_slug</th>\n",
       "      <th>paper_url</th>\n",
       "    </tr>\n",
       "  </thead>\n",
       "  <tbody>\n",
       "    <tr>\n",
       "      <th>0</th>\n",
       "      <td>6/30/16</td>\n",
       "      <td>Symbiotic Burkholderia Species Show Diverse Ar...</td>\n",
       "      <td>International Society for Molecular Plant-Micr...</td>\n",
       "      <td>deeper genomic analysis revealed a complex sym...</td>\n",
       "      <td>De Meyer, S. E., Briscoe, L., Martinez-Hidalgo...</td>\n",
       "      <td>Diverse arrangements of nitrogen fixation genes</td>\n",
       "      <td>https://doi.org/10.1094/MPMI-05-16-0091-R</td>\n",
       "    </tr>\n",
       "    <tr>\n",
       "      <th>1</th>\n",
       "      <td>10/5/17</td>\n",
       "      <td>SaVanT: a web-based tool for the sample-level ...</td>\n",
       "      <td>BMC Genomics</td>\n",
       "      <td>Signature visualization of individual samples ...</td>\n",
       "      <td>Lopez, D., Montoya, D., Ambrose, M., Lam, L., ...</td>\n",
       "      <td>SaVanT</td>\n",
       "      <td>https://doi.org/10.1186/s12864-017-4167-7</td>\n",
       "    </tr>\n",
       "    <tr>\n",
       "      <th>2</th>\n",
       "      <td>7/24/18</td>\n",
       "      <td>Whole genome analyses suggests that Burkholder...</td>\n",
       "      <td>Genes</td>\n",
       "      <td>The newly proposed combinations are Mycetohabi...</td>\n",
       "      <td>Estrada-de los Santos, P., Palmer, M., Ch vez-...</td>\n",
       "      <td>Novel genera in Burkholderiaceae</td>\n",
       "      <td>https://doi.org/10.3390/genes9080389</td>\n",
       "    </tr>\n",
       "    <tr>\n",
       "      <th>3</th>\n",
       "      <td>6/10/19</td>\n",
       "      <td>FEAST: fast expectation-maximization for micro...</td>\n",
       "      <td>Nature Methods</td>\n",
       "      <td>FEAST may provide insight into quantifying con...</td>\n",
       "      <td>Shenhav, L., Thompson, M., Joseph, T. A., Bris...</td>\n",
       "      <td>FEAST</td>\n",
       "      <td>https://doi.org/10.1038/s41592-019-0431-x</td>\n",
       "    </tr>\n",
       "    <tr>\n",
       "      <th>4</th>\n",
       "      <td>6/27/19</td>\n",
       "      <td>Modeling the temporal dynamics of the gut micr...</td>\n",
       "      <td>PLoS Computational Biology</td>\n",
       "      <td>MTV-LMM can identify time-dependent microbes (...</td>\n",
       "      <td>Shenhav, L., Furman, O., Briscoe, L., Thompson...</td>\n",
       "      <td>MTVLMM</td>\n",
       "      <td>https://doi.org/10.1371/journal.pcbi.1006960</td>\n",
       "    </tr>\n",
       "    <tr>\n",
       "      <th>5</th>\n",
       "      <td>10/20/21</td>\n",
       "      <td>Optimized design of single-cell RNA sequencing...</td>\n",
       "      <td>Nature Communications</td>\n",
       "      <td>we provide a practical approach on selecting c...</td>\n",
       "      <td>Mandric, I., Schwarz, T., Majumdar, A., Hou, K...</td>\n",
       "      <td>cost-effective designs</td>\n",
       "      <td>https://doi.org/10.1038/s41467-020-19365-w</td>\n",
       "    </tr>\n",
       "    <tr>\n",
       "      <th>6</th>\n",
       "      <td>3/20/21</td>\n",
       "      <td>Correcting for Background Noise Improves Pheno...</td>\n",
       "      <td>Biorxiv</td>\n",
       "      <td>We show that application of the centered log-r...</td>\n",
       "      <td>Briscoe, L., Balliu, B., Sankararaman, S.,Halp...</td>\n",
       "      <td>PCA correction</td>\n",
       "      <td>https://doi.org/10.1101/2021.03.19.436199</td>\n",
       "    </tr>\n",
       "  </tbody>\n",
       "</table>\n",
       "</div>"
      ],
      "text/plain": [
       "   pub_date                                              title  \\\n",
       "0   6/30/16  Symbiotic Burkholderia Species Show Diverse Ar...   \n",
       "1   10/5/17  SaVanT: a web-based tool for the sample-level ...   \n",
       "2   7/24/18  Whole genome analyses suggests that Burkholder...   \n",
       "3   6/10/19  FEAST: fast expectation-maximization for micro...   \n",
       "4   6/27/19  Modeling the temporal dynamics of the gut micr...   \n",
       "5  10/20/21  Optimized design of single-cell RNA sequencing...   \n",
       "6   3/20/21  Correcting for Background Noise Improves Pheno...   \n",
       "\n",
       "                                               venue  \\\n",
       "0  International Society for Molecular Plant-Micr...   \n",
       "1                                       BMC Genomics   \n",
       "2                                              Genes   \n",
       "3                                     Nature Methods   \n",
       "4                         PLoS Computational Biology   \n",
       "5                              Nature Communications   \n",
       "6                                            Biorxiv   \n",
       "\n",
       "                                             excerpt  \\\n",
       "0  deeper genomic analysis revealed a complex sym...   \n",
       "1  Signature visualization of individual samples ...   \n",
       "2  The newly proposed combinations are Mycetohabi...   \n",
       "3  FEAST may provide insight into quantifying con...   \n",
       "4  MTV-LMM can identify time-dependent microbes (...   \n",
       "5  we provide a practical approach on selecting c...   \n",
       "6  We show that application of the centered log-r...   \n",
       "\n",
       "                                            citation  \\\n",
       "0  De Meyer, S. E., Briscoe, L., Martinez-Hidalgo...   \n",
       "1  Lopez, D., Montoya, D., Ambrose, M., Lam, L., ...   \n",
       "2  Estrada-de los Santos, P., Palmer, M., Ch vez-...   \n",
       "3  Shenhav, L., Thompson, M., Joseph, T. A., Bris...   \n",
       "4  Shenhav, L., Furman, O., Briscoe, L., Thompson...   \n",
       "5  Mandric, I., Schwarz, T., Majumdar, A., Hou, K...   \n",
       "6  Briscoe, L., Balliu, B., Sankararaman, S.,Halp...   \n",
       "\n",
       "                                          url_slug  \\\n",
       "0  Diverse arrangements of nitrogen fixation genes   \n",
       "1                                           SaVanT   \n",
       "2                 Novel genera in Burkholderiaceae   \n",
       "3                                            FEAST   \n",
       "4                                           MTVLMM   \n",
       "5                           cost-effective designs   \n",
       "6                                   PCA correction   \n",
       "\n",
       "                                      paper_url  \n",
       "0     https://doi.org/10.1094/MPMI-05-16-0091-R  \n",
       "1     https://doi.org/10.1186/s12864-017-4167-7  \n",
       "2          https://doi.org/10.3390/genes9080389  \n",
       "3     https://doi.org/10.1038/s41592-019-0431-x  \n",
       "4  https://doi.org/10.1371/journal.pcbi.1006960  \n",
       "5    https://doi.org/10.1038/s41467-020-19365-w  \n",
       "6     https://doi.org/10.1101/2021.03.19.436199  "
      ]
     },
     "execution_count": 9,
     "metadata": {},
     "output_type": "execute_result"
    }
   ],
   "source": [
    "publications = pd.read_csv(\"publications.tsv\", sep=\"\\t\", header=0)\n",
    "publications\n"
   ]
  },
  {
   "cell_type": "markdown",
   "metadata": {},
   "source": [
    "## Escape special characters\n",
    "\n",
    "YAML is very picky about how it takes a valid string, so we are replacing single and double quotes (and ampersands) with their HTML encoded equivilents. This makes them look not so readable in raw format, but they are parsed and rendered nicely."
   ]
  },
  {
   "cell_type": "code",
   "execution_count": 10,
   "metadata": {},
   "outputs": [],
   "source": [
    "html_escape_table = {\n",
    "    \"&\": \"&amp;\",\n",
    "    '\"': \"&quot;\",\n",
    "    \"'\": \"&apos;\"\n",
    "    }\n",
    "\n",
    "def html_escape(text):\n",
    "    \"\"\"Produce entities within text.\"\"\"\n",
    "    return \"\".join(html_escape_table.get(c,c) for c in text)"
   ]
  },
  {
   "cell_type": "markdown",
   "metadata": {},
   "source": [
    "## Creating the markdown files\n",
    "\n",
    "This is where the heavy lifting is done. This loops through all the rows in the TSV dataframe, then starts to concatentate a big string (```md```) that contains the markdown for each type. It does the YAML metadata first, then does the description for the individual page."
   ]
  },
  {
   "cell_type": "code",
   "execution_count": 11,
   "metadata": {},
   "outputs": [],
   "source": [
    "import os\n",
    "for row, item in publications.iterrows():\n",
    "    \n",
    "    md_filename = str(item.pub_date) + \"-\" + item.url_slug + \".md\"\n",
    "    html_filename = str(item.pub_date) + \"-\" + item.url_slug\n",
    "    year = item.pub_date[:4]\n",
    "    \n",
    "    ## YAML variables\n",
    "    \n",
    "    md = \"---\\ntitle: \\\"\"   + item.title + '\"\\n'\n",
    "    \n",
    "    md += \"\"\"collection: publications\"\"\"\n",
    "    \n",
    "    md += \"\"\"\\npermalink: /publication/\"\"\" + html_filename\n",
    "    \n",
    "    if len(str(item.excerpt)) > 5:\n",
    "        md += \"\\nexcerpt: '\" + html_escape(item.excerpt) + \"'\"\n",
    "    \n",
    "    md += \"\\ndate: \" + str(item.pub_date) \n",
    "    \n",
    "    md += \"\\nvenue: '\" + html_escape(item.venue) + \"'\"\n",
    "    \n",
    "    if len(str(item.paper_url)) > 5:\n",
    "        md += \"\\npaperurl: '\" + item.paper_url + \"'\"\n",
    "    \n",
    "    md += \"\\ncitation: '\" + html_escape(item.citation) + \"'\"\n",
    "    \n",
    "    md += \"\\n---\"\n",
    "    \n",
    "    ## Markdown description for individual page\n",
    "        \n",
    "    if len(str(item.excerpt)) > 5:\n",
    "        md += \"\\n\" + html_escape(item.excerpt) + \"\\n\"\n",
    "    \n",
    "    if len(str(item.paper_url)) > 5:\n",
    "        md += \"\\n[Download paper here](\" + item.paper_url + \")\\n\" \n",
    "        \n",
    "    md += \"\\nRecommended citation: \" + item.citation\n",
    "    \n",
    "    md_filename = os.path.basename(md_filename)\n",
    "       \n",
    "    with open(\"../_publications/\" + md_filename, 'w') as f:\n",
    "        f.write(md)"
   ]
  },
  {
   "cell_type": "markdown",
   "metadata": {},
   "source": [
    "These files are in the publications directory, one directory below where we're working from."
   ]
  },
  {
   "cell_type": "code",
   "execution_count": 12,
   "metadata": {},
   "outputs": [
    {
     "name": "stdout",
     "output_type": "stream",
     "text": [
      "16-Diverse arrangements of nitrogen fixation genes.md\r\n",
      "17-SaVanT.md\r\n",
      "18-Novel genera in Burkholderiaceae.md\r\n",
      "19-FEAST.md\r\n",
      "19-MTVLMM.md\r\n",
      "2016-06-30-Diverse arrangements of nitrogen fixation genes.md\r\n",
      "2017-10-05-SaVanT.md\r\n",
      "2018-07-24-Novel genera in Burkholderiaceae.md\r\n",
      "2019-06-10-FEAST.md\r\n",
      "2019-06-27-MTVLMM.md\r\n",
      "21-PCA correction.md\r\n",
      "21-cost-effective designs.md\r\n"
     ]
    }
   ],
   "source": [
    "!ls ../_publications/"
   ]
  },
  {
   "cell_type": "code",
   "execution_count": 13,
   "metadata": {},
   "outputs": [
    {
     "name": "stdout",
     "output_type": "stream",
     "text": [
      "cat: ../_publications/2009-10-01-paper-title-number-1.md: No such file or directory\r\n"
     ]
    }
   ],
   "source": [
    "!cat ../_publications/2009-10-01-paper-title-number-1.md"
   ]
  },
  {
   "cell_type": "code",
   "execution_count": null,
   "metadata": {},
   "outputs": [],
   "source": []
  }
 ],
 "metadata": {
  "kernelspec": {
   "display_name": "Python 3",
   "language": "python",
   "name": "python3"
  },
  "language_info": {
   "codemirror_mode": {
    "name": "ipython",
    "version": 3
   },
   "file_extension": ".py",
   "mimetype": "text/x-python",
   "name": "python",
   "nbconvert_exporter": "python",
   "pygments_lexer": "ipython3",
   "version": "3.6.8"
  }
 },
 "nbformat": 4,
 "nbformat_minor": 1
}
